{
 "cells": [
  {
   "cell_type": "markdown",
   "id": "74c84de2",
   "metadata": {},
   "source": [
    "# Importing libraries "
   ]
  },
  {
   "cell_type": "code",
   "execution_count": 1,
   "id": "bc050591",
   "metadata": {},
   "outputs": [],
   "source": [
    "# Import libraries \n",
    "import pandas as pd \n",
    "import numpy as np \n",
    "import os"
   ]
  },
  {
   "cell_type": "markdown",
   "id": "82ae348b",
   "metadata": {},
   "source": [
    "# Working with data types in python "
   ]
  },
  {
   "cell_type": "code",
   "execution_count": 2,
   "id": "6433ab7d",
   "metadata": {},
   "outputs": [],
   "source": [
    "#coding 3 ways to reach 100 with addition or subtraction \n",
    "x = 75 "
   ]
  },
  {
   "cell_type": "code",
   "execution_count": 3,
   "id": "8efcf545",
   "metadata": {},
   "outputs": [],
   "source": [
    "y = 25 "
   ]
  },
  {
   "cell_type": "code",
   "execution_count": 4,
   "id": "bd0f2d22",
   "metadata": {},
   "outputs": [
    {
     "data": {
      "text/plain": [
       "100"
      ]
     },
     "execution_count": 4,
     "metadata": {},
     "output_type": "execute_result"
    }
   ],
   "source": [
    "x + y "
   ]
  },
  {
   "cell_type": "code",
   "execution_count": 5,
   "id": "8e40955e",
   "metadata": {},
   "outputs": [
    {
     "data": {
      "text/plain": [
       "100"
      ]
     },
     "execution_count": 5,
     "metadata": {},
     "output_type": "execute_result"
    }
   ],
   "source": [
    "x + x - 50 "
   ]
  },
  {
   "cell_type": "code",
   "execution_count": 9,
   "id": "aba8b5c6",
   "metadata": {},
   "outputs": [],
   "source": [
    "c = 50 "
   ]
  },
  {
   "cell_type": "code",
   "execution_count": 10,
   "id": "fc47dc7d",
   "metadata": {},
   "outputs": [
    {
     "data": {
      "text/plain": [
       "100"
      ]
     },
     "execution_count": 10,
     "metadata": {},
     "output_type": "execute_result"
    }
   ],
   "source": [
    "x + c - y "
   ]
  },
  {
   "cell_type": "code",
   "execution_count": 11,
   "id": "50abf072",
   "metadata": {},
   "outputs": [],
   "source": [
    "#code 2 floating point variables and divide them by each other \n",
    "a = 65.76"
   ]
  },
  {
   "cell_type": "code",
   "execution_count": 12,
   "id": "1e5936be",
   "metadata": {},
   "outputs": [],
   "source": [
    "b = 4.89"
   ]
  },
  {
   "cell_type": "code",
   "execution_count": 13,
   "id": "7ff4dfca",
   "metadata": {},
   "outputs": [
    {
     "data": {
      "text/plain": [
       "13.447852760736199"
      ]
     },
     "execution_count": 13,
     "metadata": {},
     "output_type": "execute_result"
    }
   ],
   "source": [
    "a / b "
   ]
  },
  {
   "cell_type": "code",
   "execution_count": 14,
   "id": "8759b846",
   "metadata": {},
   "outputs": [],
   "source": [
    "#construct a short word made of seperate strings \n",
    "d = 'foot'"
   ]
  },
  {
   "cell_type": "code",
   "execution_count": 15,
   "id": "bce33a4c",
   "metadata": {},
   "outputs": [],
   "source": [
    "e = 'ball'"
   ]
  },
  {
   "cell_type": "code",
   "execution_count": 16,
   "id": "c32ac8ef",
   "metadata": {},
   "outputs": [
    {
     "data": {
      "text/plain": [
       "'football'"
      ]
     },
     "execution_count": 16,
     "metadata": {},
     "output_type": "execute_result"
    }
   ],
   "source": [
    "d + e "
   ]
  },
  {
   "cell_type": "code",
   "execution_count": 23,
   "id": "ae893630",
   "metadata": {},
   "outputs": [],
   "source": [
    "#construct 2 short sentences \n",
    "f = 'Sebastian likes to'"
   ]
  },
  {
   "cell_type": "code",
   "execution_count": 24,
   "id": "1e2c1b1e",
   "metadata": {},
   "outputs": [],
   "source": [
    "g = ' play baseball in the yard'"
   ]
  },
  {
   "cell_type": "code",
   "execution_count": 25,
   "id": "9d5d8d65",
   "metadata": {},
   "outputs": [
    {
     "data": {
      "text/plain": [
       "'Sebastian likes to play baseball in the yard'"
      ]
     },
     "execution_count": 25,
     "metadata": {},
     "output_type": "execute_result"
    }
   ],
   "source": [
    "#sentence one \n",
    "f + g "
   ]
  },
  {
   "cell_type": "code",
   "execution_count": 26,
   "id": "b082e053",
   "metadata": {},
   "outputs": [],
   "source": [
    "h = 'On saturdays my dad and I' "
   ]
  },
  {
   "cell_type": "code",
   "execution_count": 27,
   "id": "390bdd90",
   "metadata": {},
   "outputs": [
    {
     "data": {
      "text/plain": [
       "'On saturdays my dad and I play baseball in the yard'"
      ]
     },
     "execution_count": 27,
     "metadata": {},
     "output_type": "execute_result"
    }
   ],
   "source": [
    "#sentence two\n",
    "h + g"
   ]
  },
  {
   "cell_type": "code",
   "execution_count": null,
   "id": "3f62601b",
   "metadata": {},
   "outputs": [],
   "source": []
  }
 ],
 "metadata": {
  "kernelspec": {
   "display_name": "Python 3 (ipykernel)",
   "language": "python",
   "name": "python3"
  },
  "language_info": {
   "codemirror_mode": {
    "name": "ipython",
    "version": 3
   },
   "file_extension": ".py",
   "mimetype": "text/x-python",
   "name": "python",
   "nbconvert_exporter": "python",
   "pygments_lexer": "ipython3",
   "version": "3.11.5"
  }
 },
 "nbformat": 4,
 "nbformat_minor": 5
}
